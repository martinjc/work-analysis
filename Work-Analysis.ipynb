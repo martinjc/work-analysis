{
 "cells": [
  {
   "cell_type": "code",
   "execution_count": 3,
   "metadata": {},
   "outputs": [
    {
     "name": "stdout",
     "output_type": "stream",
     "text": [
      "Your browser has been opened to visit:\n",
      "\n",
      "    https://accounts.google.com/o/oauth2/auth?client_id=450348861738-qnnnsu3t718g56sprrk2m1jb42mguqna.apps.googleusercontent.com&redirect_uri=http%3A%2F%2Flocalhost%3A8080%2F&scope=https%3A%2F%2Fwww.googleapis.com%2Fauth%2Fdrive&access_type=offline&response_type=code&approval_prompt=force\n",
      "\n",
      "Authentication successful.\n"
     ]
    }
   ],
   "source": [
    "# authenticate with Google Drive\n",
    "\n",
    "from pydrive.auth import GoogleAuth\n",
    "\n",
    "gauth = GoogleAuth()\n",
    "# Create local webserver and auto handles authentication.\n",
    "gauth.LocalWebserverAuth()"
   ]
  },
  {
   "cell_type": "code",
   "execution_count": 5,
   "metadata": {},
   "outputs": [
    {
     "name": "stdout",
     "output_type": "stream",
     "text": [
      "title Timesheet, id 19YTdn9oHUKS9VRlTL4_Uv04NWOmJmoJopKUFDIswQ7w\n",
      "title Timesheet, id 1lio_ruCDFOaJnKx8vUbsYOddk_5i0FOv\n",
      "title Timesheet, id 1U4GS8m_QLtGmrRPJbzkCzEbmf1FNlNiQ\n",
      "title TimesheetBackup_2019-02-13_000001.xml, id 1gur9s9Yv5bPCgd0UugbjwQmdzAMpfKYx\n",
      "title TimesheetBackup_2019-02-12_000005.xml, id 1T9_-1Akmwp539F3wrrwJo8ZwKu0mqQ8l\n",
      "title TimesheetBackup_2019-02-11_000003.xml, id 1HBWsddOKt6SXggQyfgX3uKQkoZxdvz5I\n",
      "title TimesheetBackup_2019-02-10_000002.xml, id 1_aKUtMy7jpzceR_5BPhtnTGZD59TkxBI\n",
      "title TimesheetBackup_2019-02-09_000002.xml, id 1_FfGFt75eUFQ22eouRKKCDl9KYD8Akkn\n",
      "title TimesheetBackup_2019-02-08_000002.xml, id 1d1lc2VeDgyFiwsVcLlqtnqs0RMqBD5bR\n",
      "title TimesheetBackup_2019-02-07_000002.xml, id 1eb6WWyjRUrFkuRprQdo1FyUpIJKNOR42\n",
      "title TimesheetBackup_2019-02-06_000003.xml, id 1lrfjV0oECzvODZjcKs8JkTtlEuygKZ8Y\n",
      "title TimesheetBackup_2019-02-05_000005.xml, id 102p_JEjp3GvmbggUldWp1EwfvxMC9owi\n",
      "title TimesheetBackup_2019-02-04_000005.xml, id 14kMdOi15Eq3ylMojl5GSWarLfEI0mPQJ\n",
      "title TimesheetBackup_2019-02-03_000002.xml, id 1CSfBl92UGYZE82Zg1mkQWaxuUWWS4llW\n",
      "title TimesheetBackup_2019-02-02_000003.xml, id 1F5X21OwBUlrm_ig5-xI_M881xm6wXWkd\n",
      "title TimesheetBackup_2019-02-01_000005.xml, id 1r1VRZxeGFxx1GmVx-Jd2Qcic9g149o9y\n",
      "title TimesheetBackup_2019-01-31_000004.xml, id 18yfPFsZPGN1_2_MLJC4aMxcTVVS_AXTz\n",
      "title TimesheetBackup_2019-01-30_000002.xml, id 1saLss2yNbNLEGhuCjW6ML49dy8CjDdRb\n",
      "title TimesheetBackup_2019-01-29_000004.xml, id 180sN3s0VSke4wo72ekUjnFn9rfhWITfr\n",
      "title TimesheetBackup_2019-01-28_000008.xml, id 1gb7uVhqgUSmW1RvYzhRZyh0dZmbaSacS\n",
      "title TimesheetBackup_2019-01-27_000002.xml, id 1CQX1e1B_sIY4UcQPM1JR4Fo13SxRXw0R\n",
      "title TimesheetBackup_2019-01-26_000003.xml, id 12n7QAIQuZHMwGiOJZ3017mNurnCvHpu6\n",
      "title Timesheet, id 1fjeHgmdDq8c306iKnXNi_yA-YLWK89Jo\n",
      "title TimesheetBackup_2019-01-25_175819.xml, id 1yjpKqQFUCjs6AIhfNeixM69mMkx-e6ga\n",
      "title Timesheet, id 1JkmwAG7TA1Cqke4MA32Ziu768BOvB6bo\n"
     ]
    }
   ],
   "source": [
    "from pydrive.drive import GoogleDrive\n",
    "\n",
    "drive = GoogleDrive(gauth)\n",
    "# file_list = drive.ListFile().GetList()\n",
    "# # print(file_list)\n",
    "# # for file1 in file_list:\n",
    "# #   print('title: %s, id: %s' % (file1['title'], file1['id']))\n",
    "listed = drive.ListFile({'q': \"title contains 'Timesheet'\"}).GetList()\n",
    "for file in listed:\n",
    "  print('title {}, id {}'.format(file['title'], file['id']))"
   ]
  },
  {
   "cell_type": "code",
   "execution_count": null,
   "metadata": {},
   "outputs": [],
   "source": []
  }
 ],
 "metadata": {
  "kernelspec": {
   "display_name": "Python 3",
   "language": "python",
   "name": "python3"
  },
  "language_info": {
   "codemirror_mode": {
    "name": "ipython",
    "version": 3
   },
   "file_extension": ".py",
   "mimetype": "text/x-python",
   "name": "python",
   "nbconvert_exporter": "python",
   "pygments_lexer": "ipython3",
   "version": "3.7.0"
  }
 },
 "nbformat": 4,
 "nbformat_minor": 2
}
